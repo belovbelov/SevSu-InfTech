{
 "cells": [
  {
   "cell_type": "code",
   "execution_count": null,
   "source": [],
   "outputs": [],
   "metadata": {}
  },
  {
   "cell_type": "markdown",
   "source": [
    "\r\n",
    "# Notebook of information technology\r\n",
    "## Made by student Belov Anton"
   ],
   "metadata": {}
  },
  {
   "cell_type": "markdown",
   "source": [
    "## Python as a calculator"
   ],
   "metadata": {}
  },
  {
   "cell_type": "code",
   "execution_count": 8,
   "source": [
    "\"\"\"\r\n",
    "Multiplication\r\n",
    "\"\"\"\r\n",
    "4*7"
   ],
   "outputs": [
    {
     "output_type": "execute_result",
     "data": {
      "text/plain": [
       "28"
      ]
     },
     "metadata": {},
     "execution_count": 8
    }
   ],
   "metadata": {}
  },
  {
   "cell_type": "code",
   "execution_count": 9,
   "source": [
    "\"\"\"\r\n",
    "The order of operations is controlled by math rules\r\n",
    "\"\"\"\r\n",
    "3*(2+5)"
   ],
   "outputs": [
    {
     "output_type": "execute_result",
     "data": {
      "text/plain": [
       "21"
      ]
     },
     "metadata": {},
     "execution_count": 9
    }
   ],
   "metadata": {}
  },
  {
   "cell_type": "code",
   "execution_count": 10,
   "source": [
    "\"\"\"\r\n",
    "XOR operator\r\n",
    "\"\"\"\r\n",
    "5^3"
   ],
   "outputs": [
    {
     "output_type": "execute_result",
     "data": {
      "text/plain": [
       "6"
      ]
     },
     "metadata": {},
     "execution_count": 10
    }
   ],
   "metadata": {}
  },
  {
   "cell_type": "code",
   "execution_count": 11,
   "source": [
    "\"\"\"\r\n",
    "Power operator\r\n",
    "\"\"\"\r\n",
    "5**3"
   ],
   "outputs": [
    {
     "output_type": "execute_result",
     "data": {
      "text/plain": [
       "125"
      ]
     },
     "metadata": {},
     "execution_count": 11
    }
   ],
   "metadata": {}
  },
  {
   "cell_type": "code",
   "execution_count": 12,
   "source": [
    "\"\"\"\r\n",
    "Division operator seems pretty simple as well\r\n",
    "\"\"\"\r\n",
    "12/3"
   ],
   "outputs": [
    {
     "output_type": "execute_result",
     "data": {
      "text/plain": [
       "4.0"
      ]
     },
     "metadata": {},
     "execution_count": 12
    }
   ],
   "metadata": {}
  },
  {
   "cell_type": "code",
   "execution_count": 13,
   "source": [
    "\"\"\"\r\n",
    "Division with decimal result\r\n",
    "\"\"\"\r\n",
    "3//2"
   ],
   "outputs": [
    {
     "output_type": "execute_result",
     "data": {
      "text/plain": [
       "1"
      ]
     },
     "metadata": {},
     "execution_count": 13
    }
   ],
   "metadata": {}
  },
  {
   "cell_type": "code",
   "execution_count": 14,
   "source": [
    "\"\"\"\r\n",
    "How are things going with other operations? Let's try to extract the square root: \r\n",
    "Cant use without 'math' module\r\n",
    "\"\"\"\r\n",
    "sqrt(4)"
   ],
   "outputs": [
    {
     "output_type": "error",
     "ename": "NameError",
     "evalue": "name 'sqrt' is not defined",
     "traceback": [
      "\u001b[1;31m---------------------------------------------------------------------------\u001b[0m",
      "\u001b[1;31mNameError\u001b[0m                                 Traceback (most recent call last)",
      "\u001b[1;32m~\\AppData\\Local\\Temp/ipykernel_9964/1826746869.py\u001b[0m in \u001b[0;36m<module>\u001b[1;34m\u001b[0m\n\u001b[0;32m      2\u001b[0m \u001b[0mCant\u001b[0m \u001b[0muse\u001b[0m \u001b[0mwithout\u001b[0m \u001b[1;34m'math'\u001b[0m \u001b[0mmodule\u001b[0m\u001b[1;33m\u001b[0m\u001b[1;33m\u001b[0m\u001b[0m\n\u001b[0;32m      3\u001b[0m \"\"\"\n\u001b[1;32m----> 4\u001b[1;33m \u001b[0msqrt\u001b[0m\u001b[1;33m(\u001b[0m\u001b[1;36m4\u001b[0m\u001b[1;33m)\u001b[0m\u001b[1;33m\u001b[0m\u001b[1;33m\u001b[0m\u001b[0m\n\u001b[0m",
      "\u001b[1;31mNameError\u001b[0m: name 'sqrt' is not defined"
     ]
    }
   ],
   "metadata": {}
  },
  {
   "cell_type": "code",
   "execution_count": 15,
   "source": [
    "\"\"\"\r\n",
    "The corresponding function is in the standard math module. To use it, you need import this module. You can do it by different waysr\r\n",
    "\"\"\"\r\n",
    "import math\r\n",
    "math.sqrt(4)"
   ],
   "outputs": [
    {
     "output_type": "execute_result",
     "data": {
      "text/plain": [
       "2.0"
      ]
     },
     "metadata": {},
     "execution_count": 15
    }
   ],
   "metadata": {}
  },
  {
   "cell_type": "code",
   "execution_count": 16,
   "source": [
    "\"\"\"\r\n",
    "The corresponding function is in the standard math module. To use it, you need import this module. You can do it by different ways\r\n",
    "\"\"\"\r\n",
    "math.sin(0)"
   ],
   "outputs": [
    {
     "output_type": "execute_result",
     "data": {
      "text/plain": [
       "0.0"
      ]
     },
     "metadata": {},
     "execution_count": 16
    }
   ],
   "metadata": {}
  },
  {
   "cell_type": "code",
   "execution_count": 17,
   "source": [
    "\"\"\"\r\n",
    "After math module is imported, you can find out more functions\r\n",
    "\"\"\"\r\n",
    "from math import sqrt\r\n",
    "sqrt(4)"
   ],
   "outputs": [
    {
     "output_type": "execute_result",
     "data": {
      "text/plain": [
       "2.0"
      ]
     },
     "metadata": {},
     "execution_count": 17
    }
   ],
   "metadata": {}
  },
  {
   "cell_type": "markdown",
   "source": [
    "## Real numbers and errors"
   ],
   "metadata": {}
  },
  {
   "cell_type": "code",
   "execution_count": 18,
   "source": [
    "\"\"\"\r\n",
    "Real numbers in programming are not that simple. For example, lets calculate the sine of the π \r\n",
    "\"\"\"\r\n",
    "from math import pi, sin\r\n",
    "sin(pi)"
   ],
   "outputs": [
    {
     "output_type": "execute_result",
     "data": {
      "text/plain": [
       "1.2246467991473532e-16"
      ]
     },
     "metadata": {},
     "execution_count": 18
    }
   ],
   "metadata": {}
  },
  {
   "cell_type": "markdown",
   "source": [
    "## Variables"
   ],
   "metadata": {}
  },
  {
   "cell_type": "code",
   "execution_count": 2,
   "source": [
    "\"\"\"\r\n",
    "In Python, you dont need to declare a variable - you just need to assign it to some value\r\n",
    "\"\"\"\r\n",
    "\r\n",
    "x = 4\r\n",
    "x\r\n",
    "x + 2\r\n",
    "x = x + 2\r\n",
    "x"
   ],
   "outputs": [
    {
     "output_type": "execute_result",
     "data": {
      "text/plain": [
       "6"
      ]
     },
     "metadata": {},
     "execution_count": 2
    }
   ],
   "metadata": {}
  },
  {
   "cell_type": "markdown",
   "source": [
    "## Reading data"
   ],
   "metadata": {}
  },
  {
   "cell_type": "code",
   "execution_count": 4,
   "source": [
    "\"\"\"\r\n",
    "While working in Notebook it is rare to input something manually, but for other programms it could become handy.\r\n",
    "Lets write a program, which greets us\r\n",
    "\"\"\"\r\n",
    "\r\n",
    "name = input(\"Input your name: \")\r\n",
    "print(f\"Hello, {name}\")\r\n",
    "name"
   ],
   "outputs": [
    {
     "output_type": "stream",
     "name": "stdout",
     "text": [
      "Hello, Anton\n"
     ]
    },
    {
     "output_type": "execute_result",
     "data": {
      "text/plain": [
       "'Anton'"
      ]
     },
     "metadata": {},
     "execution_count": 4
    }
   ],
   "metadata": {}
  },
  {
   "cell_type": "code",
   "execution_count": 6,
   "source": [
    "\"\"\"\r\n",
    "Lets try to write a program \"doubler\". It will be reading a number, doubling it and returning\r\n",
    "\"\"\"\r\n",
    "\r\n",
    "x = input(\"Введите какое-нибудь число: \")\r\n",
    "print(x*2)\r\n",
    "print(x)"
   ],
   "outputs": [
    {
     "output_type": "stream",
     "name": "stdout",
     "text": [
      "1212\n",
      "12\n"
     ]
    }
   ],
   "metadata": {}
  },
  {
   "cell_type": "code",
   "execution_count": 7,
   "source": [
    "\"\"\"\r\n",
    "To make doubler work properly we should rewrite it like this\r\n",
    "\"\"\"\r\n",
    "\r\n",
    "x_str = input(\"Введите какое-нибудь число: \")\r\n",
    "x = int(x_str)\r\n",
    "print(x*2)\r\n",
    "\r\n",
    "\"\"\"\r\n",
    "Thats better, but we can make it look better\r\n",
    "\"\"\"\r\n",
    "\r\n",
    "x = int(input(\"Введите какое-нибудь число: \"))\r\n",
    "print(x*2)\r\n",
    "\r\n",
    "\"\"\"\r\n",
    "If we try to input float type, doubler would not work correctly. Lets fix that\r\n",
    "\"\"\"\r\n",
    "\r\n",
    "x = float(input(\"Введите какое-нибудь число (не обязательно целое): \"))\r\n",
    "print(x*2)\r\n"
   ],
   "outputs": [
    {
     "output_type": "stream",
     "name": "stdout",
     "text": [
      "4\n"
     ]
    }
   ],
   "metadata": {}
  },
  {
   "cell_type": "markdown",
   "source": [
    "## Practical task : Fibonacci sequence"
   ],
   "metadata": {}
  },
  {
   "cell_type": "markdown",
   "source": [
    "Fibonacci numbers or Fibonacci sequence is a sequence of numbers starting with two ones, and such that the next number in this sequence is equal to the sum of two previous. Formally, you can define it as follows:\r\n",
    "\r\n",
    "$a_1 = 0$\r\n",
    "\r\n",
    "$a_1 = 0$\r\n",
    "\r\n",
    "$a_{n+1} = a_n + a_{n - 1}$ for all n > 2 = 3\r\n",
    "\r\n",
    "**Task:** calculate 15th Fibonacci number"
   ],
   "metadata": {}
  },
  {
   "cell_type": "code",
   "execution_count": null,
   "source": [
    "a = 1 # first number\r\n",
    "b = 1 # second number\r\n",
    "i = 2 # index of number in b variable"
   ],
   "outputs": [],
   "metadata": {}
  },
  {
   "cell_type": "markdown",
   "source": [
    "Python executes commands sequentially, line by line, so the order is commands is very important. Completing this cell several times, you will receive each time the next Fibonacci number. "
   ],
   "metadata": {}
  },
  {
   "cell_type": "code",
   "execution_count": null,
   "source": [
    "c = a + b # next number\r\n",
    "i = i + 1 # increased by 1\r\n",
    "a = b # we dont need a anymory\r\n",
    "b = c # remember newly getted value\r\n",
    "print(i, b)"
   ],
   "outputs": [],
   "metadata": {}
  },
  {
   "cell_type": "markdown",
   "source": [
    "What happens if we swap two lines before print? "
   ],
   "metadata": {}
  },
  {
   "cell_type": "code",
   "execution_count": null,
   "source": [
    "# lets try again\r\n",
    "c = a + b # next number\r\n",
    "i = i + 1 # increased by 1\r\n",
    "a = b # we dont need a anymory\r\n",
    "b = c # remember newly getted value\r\n",
    "print(i, b)"
   ],
   "outputs": [],
   "metadata": {}
  },
  {
   "cell_type": "code",
   "execution_count": null,
   "source": [
    "# and one more time\r\n",
    "c = a + b # next number\r\n",
    "i = i + 1 # increased by 1\r\n",
    "a = b # we dont need a anymory\r\n",
    "b = c # remember newly getted value\r\n",
    "print(i, b)"
   ],
   "outputs": [],
   "metadata": {}
  },
  {
   "cell_type": "code",
   "execution_count": null,
   "source": [
    "# and again\r\n",
    "c = a + b # нашли следующее число\r\n",
    "i = i + 1 # увеличили i на 1\r\n",
    "a = b # значение a нам уже не нужно, а вот значение b ещё пригодится\r\n",
    "b = c # запомнили вычисленное значение\r\n",
    "print(i, b)"
   ],
   "outputs": [],
   "metadata": {}
  }
 ],
 "metadata": {
  "orig_nbformat": 4,
  "language_info": {
   "name": "python",
   "version": "3.9.6",
   "mimetype": "text/x-python",
   "codemirror_mode": {
    "name": "ipython",
    "version": 3
   },
   "pygments_lexer": "ipython3",
   "nbconvert_exporter": "python",
   "file_extension": ".py"
  },
  "kernelspec": {
   "name": "python3",
   "display_name": "Python 3.9.6 64-bit"
  },
  "interpreter": {
   "hash": "ed7457b2fbc1e5938d6b52aaab6d7e4f6bc93b0345f28e0e0c546b87a896ce98"
  }
 },
 "nbformat": 4,
 "nbformat_minor": 2
}