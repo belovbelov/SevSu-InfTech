{
 "cells": [
  {
   "cell_type": "markdown",
   "source": [
    "\r\n",
    "# Notebook of information technology\r\n",
    "## Made by student Belov Anton\r\n",
    "**2021**"
   ],
   "metadata": {}
  },
  {
   "cell_type": "markdown",
   "source": [
    "## Lists and operations with them"
   ],
   "metadata": {}
  },
  {
   "cell_type": "code",
   "execution_count": 23,
   "source": [
    "\"\"\"\r\n",
    "List is a data structure in Python, witch contains many elements in itself\r\n",
    "\"\"\"\r\n",
    "numbers = [4,8,9,2,6]\r\n",
    "numbers"
   ],
   "outputs": [
    {
     "output_type": "execute_result",
     "data": {
      "text/plain": [
       "[4, 8, 9, 2, 6]"
      ]
     },
     "metadata": {},
     "execution_count": 23
    }
   ],
   "metadata": {}
  },
  {
   "cell_type": "code",
   "execution_count": 24,
   "source": [
    "\"\"\"\r\n",
    "Lists can hold any existing type in Python\r\n",
    "\"\"\"\r\n",
    "strings = [\"Hello\", \"World\", \"Test\"]"
   ],
   "outputs": [],
   "metadata": {}
  },
  {
   "cell_type": "code",
   "execution_count": 25,
   "source": [
    "\"\"\"\r\n",
    "List are able to store different types at the same time as well\r\n",
    "\"\"\"\r\n",
    "mixed_list = [\"Hello\", 6, 7.18]"
   ],
   "outputs": [],
   "metadata": {}
  },
  {
   "cell_type": "code",
   "execution_count": 26,
   "source": [
    "\"\"\"\r\n",
    "You access individual elements of list and work with them as ordinary variables.\r\n",
    "You can access them by index\r\n",
    "\"\"\"\r\n",
    "print(numbers)\r\n",
    "print(numbers[1])"
   ],
   "outputs": [
    {
     "output_type": "stream",
     "name": "stdout",
     "text": [
      "[4, 8, 9, 2, 6]\n",
      "8\n"
     ]
    }
   ],
   "metadata": {}
  },
  {
   "cell_type": "code",
   "execution_count": 27,
   "source": [
    "\"\"\"\r\n",
    "Elements of different types do not influence on each other.\r\n",
    "\"\"\"\r\n",
    "print(mixed_list)\r\n",
    "print(mixed_list[2] + 4)"
   ],
   "outputs": [
    {
     "output_type": "stream",
     "name": "stdout",
     "text": [
      "['Hello', 6, 7.18]\n",
      "11.18\n"
     ]
    }
   ],
   "metadata": {}
  },
  {
   "cell_type": "code",
   "execution_count": 28,
   "source": [
    "\"\"\"\r\n",
    "Also you can change values of list elements like normal variables\r\n",
    "\"\"\"\r\n",
    "numbers[1] = 222 # set new value\r\n",
    "numbers"
   ],
   "outputs": [
    {
     "output_type": "execute_result",
     "data": {
      "text/plain": [
       "[4, 222, 9, 2, 6]"
      ]
     },
     "metadata": {},
     "execution_count": 28
    }
   ],
   "metadata": {}
  },
  {
   "cell_type": "code",
   "execution_count": 29,
   "source": [
    "\"\"\"\r\n",
    "You can use len() function to know list length\r\n",
    "\"\"\"\r\n",
    "len(numbers) # get length of list"
   ],
   "outputs": [
    {
     "output_type": "execute_result",
     "data": {
      "text/plain": [
       "5"
      ]
     },
     "metadata": {},
     "execution_count": 29
    }
   ],
   "metadata": {}
  },
  {
   "cell_type": "code",
   "execution_count": 30,
   "source": [
    "\"\"\"\r\n",
    "If you want to access last element of list you can use this syntax\r\n",
    "\"\"\"\r\n",
    "numbers[-1] # get last element\r\n",
    "\"\"\"\r\n",
    "But if you will try to access non-existent element, it will raise an exception\r\n",
    "\"\"\"\r\n",
    "numbers[6] = 100"
   ],
   "outputs": [
    {
     "output_type": "error",
     "ename": "IndexError",
     "evalue": "list assignment index out of range",
     "traceback": [
      "\u001b[1;31m---------------------------------------------------------------------------\u001b[0m",
      "\u001b[1;31mIndexError\u001b[0m                                Traceback (most recent call last)",
      "\u001b[1;32m<ipython-input-30-a892edd2224d>\u001b[0m in \u001b[0;36m<module>\u001b[1;34m\u001b[0m\n\u001b[0;32m      6\u001b[0m \u001b[0mBut\u001b[0m \u001b[1;32mif\u001b[0m \u001b[0myou\u001b[0m \u001b[0mwill\u001b[0m \u001b[1;32mtry\u001b[0m \u001b[0mto\u001b[0m \u001b[0maccess\u001b[0m \u001b[0mnon\u001b[0m\u001b[1;33m-\u001b[0m\u001b[0mexistent\u001b[0m \u001b[0melement\u001b[0m\u001b[1;33m,\u001b[0m \u001b[0mit\u001b[0m \u001b[0mwill\u001b[0m \u001b[1;32mraise\u001b[0m \u001b[0man\u001b[0m \u001b[0mexception\u001b[0m\u001b[1;33m\u001b[0m\u001b[1;33m\u001b[0m\u001b[0m\n\u001b[0;32m      7\u001b[0m \"\"\"\n\u001b[1;32m----> 8\u001b[1;33m \u001b[0mnumbers\u001b[0m\u001b[1;33m[\u001b[0m\u001b[1;36m6\u001b[0m\u001b[1;33m]\u001b[0m \u001b[1;33m=\u001b[0m \u001b[1;36m100\u001b[0m\u001b[1;33m\u001b[0m\u001b[1;33m\u001b[0m\u001b[0m\n\u001b[0m",
      "\u001b[1;31mIndexError\u001b[0m: list assignment index out of range"
     ]
    }
   ],
   "metadata": {}
  },
  {
   "cell_type": "code",
   "execution_count": null,
   "source": [
    "\"\"\"\r\n",
    "To append new element into array you can use built-in function append()\r\n",
    "\"\"\"\r\n",
    "numbers = [7, 6, 2]\r\n",
    "print(numbers)\r\n",
    "numbers.append(777) # appends new element\r\n",
    "print(numbers)"
   ],
   "outputs": [
    {
     "output_type": "stream",
     "name": "stdout",
     "text": [
      "[7, 6, 2]\n",
      "[7, 6, 2, 777]\n"
     ]
    }
   ],
   "metadata": {}
  },
  {
   "cell_type": "code",
   "execution_count": null,
   "source": [
    "\"\"\"\r\n",
    "To append more than one file you will need to use extend() function\r\n",
    "\"\"\"\r\n",
    "print(numbers)\r\n",
    "numbers.extend([3, 7, 5]) # appends multiple elements\r\n",
    "print(numbers)"
   ],
   "outputs": [
    {
     "output_type": "stream",
     "name": "stdout",
     "text": [
      "[7, 6, 2, 777]\n",
      "[7, 6, 2, 777, 3, 7, 5]\n"
     ]
    }
   ],
   "metadata": {}
  },
  {
   "cell_type": "code",
   "execution_count": null,
   "source": [
    "\"\"\"\r\n",
    "Plus sign between two lists will concatenate them and not sum each element with corresponding.\r\n",
    "But will not change them\r\n",
    "\"\"\"\r\n",
    "first_list = [5, 8, 2]\r\n",
    "second_list = [1, 9, 4]\r\n",
    "new_list = first_list + second_list #  concatenating two lists\r\n",
    "print(new_list)"
   ],
   "outputs": [
    {
     "output_type": "stream",
     "name": "stdout",
     "text": [
      "[5, 8, 2, 1, 9, 4]\n"
     ]
    }
   ],
   "metadata": {}
  },
  {
   "cell_type": "code",
   "execution_count": null,
   "source": [
    "\"\"\"\r\n",
    "You could think that we could use concat instead of extend function, but this is bad idea because it will create new list instead of appending new elements to already existing one\r\n",
    "\"\"\"\r\n",
    "print(numbers) \r\n",
    "numbers += [2, 6, 9] # do not do that\r\n",
    "print(numbers)"
   ],
   "outputs": [
    {
     "output_type": "stream",
     "name": "stdout",
     "text": [
      "[7, 6, 2, 777, 3, 7, 5]\n",
      "[7, 6, 2, 777, 3, 7, 5, 2, 6, 9]\n"
     ]
    }
   ],
   "metadata": {}
  },
  {
   "cell_type": "markdown",
   "source": [
    "## Slices"
   ],
   "metadata": {}
  },
  {
   "cell_type": "code",
   "execution_count": null,
   "source": [
    "\"\"\"\r\n",
    "Slices are real cozy and convinient way to get certain sequence of elements from list\r\n",
    "\"\"\"\r\n",
    "print(numbers[7:])\r\n",
    "print(numbers[:7])"
   ],
   "outputs": [
    {
     "output_type": "stream",
     "name": "stdout",
     "text": [
      "[2, 6, 9]\n",
      "[7, 6, 2, 777, 3, 7, 5]\n"
     ]
    }
   ],
   "metadata": {}
  },
  {
   "cell_type": "code",
   "execution_count": null,
   "source": [
    "\"\"\"\r\n",
    "You can use slices for initialization\r\n",
    "\"\"\"\r\n",
    "numbers = [5, 8, 9, 10]\r\n",
    "print(numbers[1:3])\r\n",
    "numbers[1:3] = [55, 77]\r\n",
    "print(numbers)"
   ],
   "outputs": [
    {
     "output_type": "stream",
     "name": "stdout",
     "text": [
      "[8, 9]\n",
      "[5, 55, 77, 10]\n"
     ]
    }
   ],
   "metadata": {}
  },
  {
   "cell_type": "code",
   "execution_count": null,
   "source": [
    "\"\"\"\r\n",
    "It is unnecesarry for new list to have the same length as our's slice length\r\n",
    "\"\"\"\r\n",
    "numbers = [6, 8, 9]\r\n",
    "print(numbers[1:1]) # empty slice\r\n",
    "numbers[1:1] = [99, 77, 55]\r\n",
    "print(numbers)"
   ],
   "outputs": [
    {
     "output_type": "stream",
     "name": "stdout",
     "text": [
      "[]\n",
      "[6, 99, 77, 55, 8, 9]\n"
     ]
    }
   ],
   "metadata": {}
  },
  {
   "cell_type": "code",
   "execution_count": null,
   "source": [
    "\"\"\"\r\n",
    "You can use del function to delete list elements or slices or anything else\r\n",
    "\"\"\"\r\n",
    "numbers = [6, 7, 9, 12, 8, 3]\r\n",
    "del(numbers[4]) # lets delete 8\r\n",
    "print(numbers)\r\n",
    "del(numbers[0:2])\r\n",
    "print(numbers)\r\n"
   ],
   "outputs": [
    {
     "output_type": "stream",
     "name": "stdout",
     "text": [
      "[6, 7, 9, 12, 3]\n",
      "[9, 12, 3]\n"
     ]
    }
   ],
   "metadata": {}
  },
  {
   "cell_type": "markdown",
   "source": [
    "## List copy and assignment"
   ],
   "metadata": {}
  },
  {
   "cell_type": "code",
   "execution_count": 31,
   "source": [
    "\"\"\"\r\n",
    "Working with lists can be tricky.\r\n",
    "For example lets assign one list to another variable\r\n",
    "\"\"\"\r\n",
    "first_list = [5, 8, 9, 'Hello']\r\n",
    "second_list = first_list"
   ],
   "outputs": [],
   "metadata": {}
  },
  {
   "cell_type": "code",
   "execution_count": 32,
   "source": [
    "first_list"
   ],
   "outputs": [
    {
     "output_type": "execute_result",
     "data": {
      "text/plain": [
       "[5, 8, 9, 'Hello']"
      ]
     },
     "metadata": {},
     "execution_count": 32
    }
   ],
   "metadata": {}
  },
  {
   "cell_type": "code",
   "execution_count": 33,
   "source": [
    "second_list"
   ],
   "outputs": [
    {
     "output_type": "execute_result",
     "data": {
      "text/plain": [
       "[5, 8, 9, 'Hello']"
      ]
     },
     "metadata": {},
     "execution_count": 33
    }
   ],
   "metadata": {}
  },
  {
   "cell_type": "code",
   "execution_count": 34,
   "source": [
    "\"\"\"\r\n",
    "We created two same lists.\r\n",
    "Lets change one of them\r\n",
    "\"\"\"\r\n",
    "second_list[0] = 777\r\n",
    "second_list"
   ],
   "outputs": [
    {
     "output_type": "execute_result",
     "data": {
      "text/plain": [
       "[777, 8, 9, 'Hello']"
      ]
     },
     "metadata": {},
     "execution_count": 34
    }
   ],
   "metadata": {}
  },
  {
   "cell_type": "code",
   "execution_count": 35,
   "source": [
    "\"\"\"\r\n",
    "?!\r\n",
    "\"\"\"\r\n",
    "first_list"
   ],
   "outputs": [
    {
     "output_type": "execute_result",
     "data": {
      "text/plain": [
       "[777, 8, 9, 'Hello']"
      ]
     },
     "metadata": {},
     "execution_count": 35
    }
   ],
   "metadata": {}
  },
  {
   "cell_type": "code",
   "execution_count": 36,
   "source": [
    "\"\"\"\r\n",
    "Lets try to firuge it out.\r\n",
    "If we want to get new list instead of reference to original one we need to copy it.\r\n",
    "Now these lists are independent\r\n",
    "\"\"\"\r\n",
    "first_list = [6, 9, 2, 5]\r\n",
    "third_list = first_list.copy()\r\n",
    "print(third_list)\r\n",
    "third_list[0] = 100\r\n",
    "print(third_list)\r\n",
    "print(first_list)"
   ],
   "outputs": [
    {
     "output_type": "stream",
     "name": "stdout",
     "text": [
      "[6, 9, 2, 5]\n",
      "[100, 9, 2, 5]\n",
      "[6, 9, 2, 5]\n"
     ]
    }
   ],
   "metadata": {}
  },
  {
   "cell_type": "code",
   "execution_count": 37,
   "source": [
    "\"\"\"\r\n",
    "Also you can use this syntax for copying\r\n",
    "\"\"\"\r\n",
    "first_list = [6, 9, 2, 5]\r\n",
    "other_list = first_list[:] # slice of the length of the list\r\n"
   ],
   "outputs": [],
   "metadata": {}
  },
  {
   "cell_type": "markdown",
   "source": [
    "## For cycle"
   ],
   "metadata": {}
  },
  {
   "cell_type": "code",
   "execution_count": 38,
   "source": [
    "\"\"\"\r\n",
    "Syntax for 'for' cycle in Python.\r\n",
    "Instead of parenthesees we use indentation\r\n",
    "\"\"\"\r\n",
    "numbers = [4, 9, 1, 5]\r\n",
    "for x in numbers:\r\n",
    " y = x + 1\r\n",
    " print(y)\r\n",
    "print(\"Thats all\")\r\n",
    "print(numbers)"
   ],
   "outputs": [
    {
     "output_type": "stream",
     "name": "stdout",
     "text": [
      "5\n",
      "10\n",
      "2\n",
      "6\n",
      "Thats all\n",
      "[4, 9, 1, 5]\n"
     ]
    }
   ],
   "metadata": {}
  },
  {
   "cell_type": "code",
   "execution_count": 39,
   "source": [
    "\"\"\"\r\n",
    "Sometimes we do not have specific list, but we have to execute some code multiple times.\r\n",
    "For this occasion we have range() function\r\n",
    "Range function - is a generator function\r\n",
    "\"\"\"\r\n",
    "for i in range(5):\r\n",
    " print(f\"Hello, i = {i}\")"
   ],
   "outputs": [
    {
     "output_type": "stream",
     "name": "stdout",
     "text": [
      "Hello, i = 0\n",
      "Hello, i = 1\n",
      "Hello, i = 2\n",
      "Hello, i = 3\n",
      "Hello, i = 4\n"
     ]
    }
   ],
   "metadata": {}
  },
  {
   "cell_type": "code",
   "execution_count": 40,
   "source": [
    "\"\"\"\r\n",
    "You can even turn range to real list with 'list' command\r\n",
    "\"\"\"\r\n",
    "print(list(range(5)))\r\n",
    "print(list(range(3, 9)))"
   ],
   "outputs": [
    {
     "output_type": "stream",
     "name": "stdout",
     "text": [
      "[0, 1, 2, 3, 4]\n",
      "[3, 4, 5, 6, 7, 8]\n"
     ]
    }
   ],
   "metadata": {}
  }
 ],
 "metadata": {
  "orig_nbformat": 4,
  "language_info": {
   "name": "python",
   "version": "3.9.6",
   "mimetype": "text/x-python",
   "codemirror_mode": {
    "name": "ipython",
    "version": 3
   },
   "pygments_lexer": "ipython3",
   "nbconvert_exporter": "python",
   "file_extension": ".py"
  },
  "kernelspec": {
   "name": "python3",
   "display_name": "Python 3.9.6 64-bit"
  },
  "interpreter": {
   "hash": "ed7457b2fbc1e5938d6b52aaab6d7e4f6bc93b0345f28e0e0c546b87a896ce98"
  }
 },
 "nbformat": 4,
 "nbformat_minor": 2
}