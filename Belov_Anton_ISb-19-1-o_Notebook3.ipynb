{
 "cells": [
  {
   "cell_type": "markdown",
   "metadata": {},
   "source": [
    "\n",
    "# Notebook of information technology\n",
    "## Made by student Belov Anton\n",
    "**2021**"
   ]
  },
  {
   "cell_type": "markdown",
   "metadata": {},
   "source": [
    "## I/O with lists"
   ]
  },
  {
   "cell_type": "markdown",
   "metadata": {},
   "source": [
    "### Casting string to list"
   ]
  },
  {
   "cell_type": "code",
   "execution_count": 6,
   "metadata": {},
   "outputs": [
    {
     "name": "stdout",
     "output_type": "stream",
     "text": [
      "hello world this is a\n",
      "test\n"
     ]
    },
    {
     "data": {
      "text/plain": [
       "['hello', 'world', 'this', 'is', 'a', 'test']"
      ]
     },
     "execution_count": 6,
     "metadata": {},
     "output_type": "execute_result"
    }
   ],
   "source": [
    "\"\"\"\n",
    "In this example lets convert string with spaces to the list with the split method\n",
    "\"\"\"\n",
    "\n",
    "s = \"hello world this is a\\ntest\"\n",
    "print(s)\n",
    "s.split()"
   ]
  },
  {
   "cell_type": "code",
   "execution_count": 7,
   "metadata": {},
   "outputs": [
    {
     "name": "stdout",
     "output_type": "stream",
     "text": [
      "hello world this is a\n",
      "test\n"
     ]
    }
   ],
   "source": [
    "\"\"\"\n",
    "Split method does not change the string itself (you cant change string type)\n",
    "\"\"\"\n",
    "\n",
    "s = \"hello world this is a\\ntest\"\n",
    "s.split()\n",
    "print(s)\n"
   ]
  },
  {
   "cell_type": "code",
   "execution_count": 8,
   "metadata": {},
   "outputs": [
    {
     "name": "stdout",
     "output_type": "stream",
     "text": [
      "hello\n",
      "world\n",
      "this\n",
      "is\n",
      "a\n",
      "test\n"
     ]
    }
   ],
   "source": [
    "words = s.split() # the result of s.split is saved to words variable\n",
    "for word in words:\n",
    "    print(word) # \n"
   ]
  },
  {
   "cell_type": "code",
   "execution_count": 9,
   "metadata": {},
   "outputs": [
    {
     "data": {
      "text/plain": [
       "['hello world this is a\\ntest']"
      ]
     },
     "execution_count": 9,
     "metadata": {},
     "output_type": "execute_result"
    }
   ],
   "source": [
    "\"\"\"\n",
    "You can change separator in split method to anything\n",
    "\"\"\"\n",
    "\n",
    "s.split(\"    \")"
   ]
  },
  {
   "cell_type": "code",
   "execution_count": 10,
   "metadata": {},
   "outputs": [
    {
     "ename": "TypeError",
     "evalue": "can only concatenate str (not \"int\") to str",
     "output_type": "error",
     "traceback": [
      "\u001b[1;31m---------------------------------------------------------------------------\u001b[0m",
      "\u001b[1;31mTypeError\u001b[0m                                 Traceback (most recent call last)",
      "\u001b[1;32m~\\AppData\\Local\\Temp/ipykernel_7824/4055314748.py\u001b[0m in \u001b[0;36m<module>\u001b[1;34m\u001b[0m\n\u001b[0;32m      6\u001b[0m \u001b[0melements\u001b[0m \u001b[1;33m=\u001b[0m \u001b[0ms\u001b[0m\u001b[1;33m.\u001b[0m\u001b[0msplit\u001b[0m\u001b[1;33m(\u001b[0m\u001b[1;34m\",\"\u001b[0m\u001b[1;33m)\u001b[0m \u001b[1;31m# get splitted string\u001b[0m\u001b[1;33m\u001b[0m\u001b[1;33m\u001b[0m\u001b[0m\n\u001b[0;32m      7\u001b[0m \u001b[1;32mfor\u001b[0m \u001b[0mn\u001b[0m \u001b[1;32min\u001b[0m \u001b[0melements\u001b[0m\u001b[1;33m:\u001b[0m\u001b[1;33m\u001b[0m\u001b[1;33m\u001b[0m\u001b[0m\n\u001b[1;32m----> 8\u001b[1;33m     \u001b[0mprint\u001b[0m\u001b[1;33m(\u001b[0m\u001b[0mn\u001b[0m\u001b[1;33m+\u001b[0m\u001b[1;36m1\u001b[0m\u001b[1;33m)\u001b[0m \u001b[1;31m# print each number increased by 1\u001b[0m\u001b[1;33m\u001b[0m\u001b[1;33m\u001b[0m\u001b[0m\n\u001b[0m\u001b[0;32m      9\u001b[0m \u001b[1;33m\u001b[0m\u001b[0m\n\u001b[0;32m     10\u001b[0m \"\"\"\n",
      "\u001b[1;31mTypeError\u001b[0m: can only concatenate str (not \"int\") to str"
     ]
    }
   ],
   "source": [
    "\"\"\"\n",
    "Lets increate each inputted number by 1\n",
    "\"\"\"\n",
    "\n",
    "s = input(\"Input numbers, separated by comas: \") # input\n",
    "elements = s.split(\",\") # get splitted string\n",
    "for n in elements:\n",
    "    print(n+1) # print each number increased by 1\n",
    "\n",
    "\"\"\"\n",
    "We get an error because of trying to add int type and string type\n",
    "\"\"\""
   ]
  },
  {
   "cell_type": "code",
   "execution_count": null,
   "metadata": {},
   "outputs": [
    {
     "name": "stdout",
     "output_type": "stream",
     "text": [
      "2\n",
      "4\n",
      "5\n",
      "6\n"
     ]
    }
   ],
   "source": [
    "\"\"\"\n",
    "To fix this error, we must cast n to int type\n",
    "\"\"\"\n",
    "\n",
    "s = input(\"Введите несколько чисел, разделённых запятыми: \")\n",
    "elements = s.split(\",\")\n",
    "for n in elements:\n",
    " n = int(n)\n",
    " print(n+1)"
   ]
  },
  {
   "cell_type": "markdown",
   "metadata": {},
   "source": [
    "### Printing list in one line"
   ]
  },
  {
   "cell_type": "code",
   "execution_count": null,
   "metadata": {},
   "outputs": [
    {
     "name": "stdout",
     "output_type": "stream",
     "text": [
      "['one', 'two', 'three']\n"
     ]
    }
   ],
   "source": [
    "\"\"\"\n",
    "We can print list with different styles\n",
    "For example lets print full list\n",
    "\"\"\"\n",
    "\n",
    "elements = [\"one\", \"two\", \"three\"]\n",
    "print(elements) # print list"
   ]
  },
  {
   "cell_type": "code",
   "execution_count": null,
   "metadata": {},
   "outputs": [
    {
     "name": "stdout",
     "output_type": "stream",
     "text": [
      "one\n",
      "two\n",
      "three\n"
     ]
    }
   ],
   "source": [
    "\"\"\"\n",
    "We can print each element in list in loop\n",
    "\"\"\"\n",
    "\n",
    "for el in elements: # for each element in elements\n",
    " print(el) # print erlement"
   ]
  },
  {
   "cell_type": "code",
   "execution_count": null,
   "metadata": {},
   "outputs": [
    {
     "name": "stdout",
     "output_type": "stream",
     "text": [
      "one two three\n"
     ]
    }
   ],
   "source": [
    "\"\"\"\n",
    "We can print each element in list in one line with join method of string type\n",
    "\"\"\"\n",
    "\n",
    "print(\" \".join(elements)) # we iterate in list and join each element on space"
   ]
  },
  {
   "cell_type": "code",
   "execution_count": null,
   "metadata": {},
   "outputs": [
    {
     "name": "stdout",
     "output_type": "stream",
     "text": [
      "one:two:three\n",
      "one----two----three\n"
     ]
    }
   ],
   "source": [
    "\"\"\"\n",
    "We can use any symbol or collection of symbols in join method\n",
    "\"\"\"\n",
    "\n",
    "print(\":\".join(elements)) # join on :\n",
    "print(\"----\".join(elements)) # join on ----"
   ]
  },
  {
   "cell_type": "code",
   "execution_count": null,
   "metadata": {},
   "outputs": [
    {
     "ename": "TypeError",
     "evalue": "sequence item 0: expected str instance, int found",
     "output_type": "error",
     "traceback": [
      "\u001b[1;31m---------------------------------------------------------------------------\u001b[0m",
      "\u001b[1;31mTypeError\u001b[0m                                 Traceback (most recent call last)",
      "\u001b[1;32m~\\AppData\\Local\\Temp/ipykernel_8884/1053815471.py\u001b[0m in \u001b[0;36m<module>\u001b[1;34m\u001b[0m\n\u001b[0;32m      1\u001b[0m \u001b[0mnumbers\u001b[0m \u001b[1;33m=\u001b[0m \u001b[1;33m[\u001b[0m\u001b[1;36m6\u001b[0m\u001b[1;33m,\u001b[0m \u001b[1;36m9\u001b[0m\u001b[1;33m,\u001b[0m \u001b[1;36m10\u001b[0m\u001b[1;33m]\u001b[0m\u001b[1;33m\u001b[0m\u001b[1;33m\u001b[0m\u001b[0m\n\u001b[1;32m----> 2\u001b[1;33m \u001b[1;34m\", \"\u001b[0m\u001b[1;33m.\u001b[0m\u001b[0mjoin\u001b[0m\u001b[1;33m(\u001b[0m\u001b[0mnumbers\u001b[0m\u001b[1;33m)\u001b[0m\u001b[1;33m\u001b[0m\u001b[1;33m\u001b[0m\u001b[0m\n\u001b[0m",
      "\u001b[1;31mTypeError\u001b[0m: sequence item 0: expected str instance, int found"
     ]
    }
   ],
   "source": [
    "\"\"\"\n",
    "But we can use join method only with lists of string type. This will raise an error\n",
    "We can fix this error with map and list comprehensions in future\n",
    "\"\"\"\n",
    "\n",
    "numbers = [6, 9, 10]\n",
    "\", \".join(numbers)"
   ]
  },
  {
   "cell_type": "code",
   "execution_count": null,
   "metadata": {},
   "outputs": [
    {
     "name": "stdout",
     "output_type": "stream",
     "text": [
      "6 9 10\n",
      "5 8 9 11 Hello\n",
      "5 8 9 11 Hello\n"
     ]
    }
   ],
   "source": [
    "\"\"\"\n",
    "Also we can print each element with asterisk sign. This way we iterate through list\n",
    "\"\"\"\n",
    "\n",
    "print(*numbers)\n",
    "print(*[5, 8, 9, 11, \"Hello\"])\n",
    "print(5, 8, 9, 11, \"Hello\")"
   ]
  },
  {
   "cell_type": "code",
   "execution_count": null,
   "metadata": {},
   "outputs": [
    {
     "name": "stdout",
     "output_type": "stream",
     "text": [
      "6, 9, 10\n"
     ]
    }
   ],
   "source": [
    "\"\"\"\n",
    "If you want to use different separator, you can easily change it like this\n",
    "\"\"\"\n",
    "\n",
    "print(*numbers, sep = ', ')"
   ]
  },
  {
   "cell_type": "markdown",
   "metadata": {},
   "source": [
    "### Strings and slices"
   ]
  },
  {
   "cell_type": "code",
   "execution_count": null,
   "metadata": {},
   "outputs": [
    {
     "data": {
      "text/plain": [
       "'s is '"
      ]
     },
     "execution_count": 34,
     "metadata": {},
     "output_type": "execute_result"
    }
   ],
   "source": [
    "\"\"\"\n",
    "String behave very similarly to lists. You can access each elelemt by its index\n",
    "\"\"\"\n",
    "\n",
    "s = \"This is a test\"\n",
    "s[6]\n",
    "s[5]\n",
    "s[3:8]\n"
   ]
  },
  {
   "cell_type": "markdown",
   "metadata": {},
   "source": [
    "## Algorithms with loops"
   ]
  },
  {
   "cell_type": "code",
   "execution_count": null,
   "metadata": {},
   "outputs": [],
   "source": [
    "\"\"\"\n",
    "In previous notebook we solve Fibonacci sequence problem.\n",
    "Lets remember how.\n",
    "\"\"\"\n",
    "\n",
    "# initialization\n",
    "a = 1 # first number\n",
    "b = 1 # second number"
   ]
  },
  {
   "cell_type": "code",
   "execution_count": null,
   "metadata": {},
   "outputs": [
    {
     "name": "stdout",
     "output_type": "stream",
     "text": [
      "3\n",
      "0 2\n",
      "1 3\n",
      "2 5\n",
      "3 8\n",
      "4 13\n",
      "5 21\n",
      "6 34\n",
      "7 55\n",
      "8 89\n",
      "9 144\n"
     ]
    }
   ],
   "source": [
    "c = a + b #find next number\n",
    "a = b # replace A value\n",
    "b = c # remember current element\n",
    "print(b)\n",
    "\n",
    "\"\"\"\n",
    "Whole algorithm \n",
    "\"\"\"\n",
    "\n",
    "\n",
    "a = 1 # first number\n",
    "b = 1 # second number\n",
    "for i in range(10): # body of the loop will repeat 10 times\n",
    "    c = a + b\n",
    "    a = b\n",
    "    b = c\n",
    "    print(i, c)"
   ]
  },
  {
   "cell_type": "code",
   "execution_count": null,
   "metadata": {},
   "outputs": [
    {
     "name": "stdout",
     "output_type": "stream",
     "text": [
      "[2, 3, 5, 8, 13, 21, 34, 55, 89, 144]\n"
     ]
    }
   ],
   "source": [
    "\"\"\"\n",
    "Lets modify it, so it will be appending new elements to the list and not printing them\n",
    "\"\"\"\n",
    "\n",
    "\n",
    "a = 1 # first number\n",
    "b = 1 # second number\n",
    "fib = [] # empty list\n",
    "for i in range(10): # body of the loop will repeat 10 times\n",
    "    c = a + b\n",
    "    a = b\n",
    "    b = c\n",
    "    fib.append(b)\n",
    "print(fib)"
   ]
  },
  {
   "cell_type": "markdown",
   "metadata": {},
   "source": [
    "## Statement checking"
   ]
  },
  {
   "cell_type": "code",
   "execution_count": null,
   "metadata": {},
   "outputs": [
    {
     "data": {
      "text/plain": [
       "True"
      ]
     },
     "execution_count": 42,
     "metadata": {},
     "output_type": "execute_result"
    }
   ],
   "source": [
    "\"\"\"\n",
    "As in all languages we have statements in python\n",
    "\"\"\"\n",
    "\n",
    "6 < 8"
   ]
  },
  {
   "cell_type": "code",
   "execution_count": null,
   "metadata": {},
   "outputs": [
    {
     "data": {
      "text/plain": [
       "True"
      ]
     },
     "execution_count": 44,
     "metadata": {},
     "output_type": "execute_result"
    }
   ],
   "source": [
    "\"\"\"\n",
    "We can write result of statement into variable\n",
    "\"\"\"\n",
    "\n",
    "condition = 6 < 8\n",
    "condition"
   ]
  },
  {
   "cell_type": "code",
   "execution_count": null,
   "metadata": {},
   "outputs": [
    {
     "data": {
      "text/plain": [
       "bool"
      ]
     },
     "execution_count": 45,
     "metadata": {},
     "output_type": "execute_result"
    }
   ],
   "source": [
    "\"\"\"\n",
    "Conditional variable is now a bool type\n",
    "\"\"\"\n",
    "\n",
    "type(condition)\n"
   ]
  },
  {
   "cell_type": "code",
   "execution_count": null,
   "metadata": {},
   "outputs": [
    {
     "data": {
      "text/plain": [
       "True"
      ]
     },
     "execution_count": 46,
     "metadata": {},
     "output_type": "execute_result"
    }
   ],
   "source": [
    "\"\"\"\n",
    "Also we can compare of 2 numbers\n",
    "\"\"\"\n",
    "\n",
    "7 == 7\n"
   ]
  },
  {
   "cell_type": "code",
   "execution_count": null,
   "metadata": {},
   "outputs": [
    {
     "data": {
      "text/plain": [
       "False"
      ]
     },
     "execution_count": 47,
     "metadata": {},
     "output_type": "execute_result"
    }
   ],
   "source": [
    "\"\"\"\n",
    "Assignment and comparing operators are different\n",
    "For example assignment operator does not return anything\n",
    "\"\"\"\n",
    "\n",
    "a = 5\n",
    "a = 7\n",
    "a == 5 # compare a value to 5 value"
   ]
  },
  {
   "cell_type": "code",
   "execution_count": null,
   "metadata": {},
   "outputs": [
    {
     "data": {
      "text/plain": [
       "True"
      ]
     },
     "execution_count": 48,
     "metadata": {},
     "output_type": "execute_result"
    }
   ],
   "source": [
    "\"\"\"\n",
    "Also comparing int type to the float type will convert float type to the int=\n",
    "\"\"\"\n",
    "\n",
    "7 == 7.0 # comparing int type to the float type"
   ]
  },
  {
   "cell_type": "markdown",
   "metadata": {},
   "source": [
    "## If operator"
   ]
  },
  {
   "cell_type": "code",
   "execution_count": null,
   "metadata": {},
   "outputs": [
    {
     "name": "stdout",
     "output_type": "stream",
     "text": [
      "Your number 1\n"
     ]
    }
   ],
   "source": [
    "\"\"\"\n",
    "\n",
    "\"\"\"\n",
    "\n",
    "a = int(input(\"Input positive number: \"))\n",
    "if a < 0: # after if statement we write condition and then place column symbol and if if statement is true, then it will run code inside\n",
    "    # if our statement is fale, then it will run ELSE block code\n",
    "    print(\"Error!\")\n",
    "    print(\"Number is not positive!\")\n",
    "print(\"Your number\", a)\n"
   ]
  },
  {
   "cell_type": "code",
   "execution_count": null,
   "metadata": {},
   "outputs": [
    {
     "name": "stdout",
     "output_type": "stream",
     "text": [
      "Error!\n",
      "Number is not positive!\n",
      "Your number -1\n"
     ]
    }
   ],
   "source": [
    "a = int(input(\"Input positive number: \"))\n",
    "if a < 0: # if true\n",
    "    print(\"Error!\")\n",
    "    print(\"Number is not positive!\")\n",
    "else: # if false\n",
    "    print(\"Good!\")\n",
    "    print(\"This is positive!\")\n",
    "print(\"Your number\", a)"
   ]
  },
  {
   "cell_type": "code",
   "execution_count": null,
   "metadata": {},
   "outputs": [
    {
     "name": "stdout",
     "output_type": "stream",
     "text": [
      "Number is big\n"
     ]
    }
   ],
   "source": [
    "\"\"\"\n",
    "You can stack if-else statements to check multiple conditions\n",
    "\"\"\"\n",
    "\n",
    "a = int(input(\"Input positive number: \")) # input number\n",
    "if a > 100: # if true\n",
    " print(\"Number is very big\")\n",
    "elif a > 10: # second condition\n",
    " print(\"Number is big\")\n",
    "else: # if false\n",
    " print(\"Number is small\")"
   ]
  },
  {
   "cell_type": "markdown",
   "metadata": {},
   "source": [
    "## Complex statements"
   ]
  },
  {
   "cell_type": "code",
   "execution_count": null,
   "metadata": {},
   "outputs": [
    {
     "name": "stdout",
     "output_type": "stream",
     "text": [
      "I like your number\n"
     ]
    }
   ],
   "source": [
    "\"\"\"\n",
    "If we need to check mulptile statements we can write it like this\n",
    "\"\"\"\n",
    "\n",
    "a = int(input(\"Input number from 0 to 100: \"))\n",
    "if a <= 100: # if true\n",
    "    if a >= 0: # if true\n",
    "        print(\"I like your number\")\n",
    "    else: # if false\n",
    "        print(\"Error\")\n",
    "else: # if false\n",
    "    print(\"Error\")"
   ]
  },
  {
   "cell_type": "code",
   "execution_count": null,
   "metadata": {},
   "outputs": [],
   "source": [
    "\"\"\"\n",
    "But there is more clean and easy way to write it with AND operator\n",
    "\"\"\"\n",
    "\n",
    "a = int(input(\"Input number from 0 to 100: \")) # input number\n",
    "if a <= 100 and a >= 0: # check 2 statements for true value\n",
    "    print(\"I like your number\")\n",
    "else: # if false\n",
    "    print(\"Error\")"
   ]
  },
  {
   "cell_type": "code",
   "execution_count": null,
   "metadata": {},
   "outputs": [],
   "source": [
    "\"\"\"\n",
    "We can experiment with NOT, OR and AND operators and get the same logic\n",
    "\"\"\"\n",
    "\n",
    "a = int(input(\"Input number from 0 to 100: \")) # input number\n",
    "if not (a <= 100 and a >= 0): # if a is not smaller than 100 and bigger than 0\n",
    "    print(\"Error\")\n",
    "else: # if false\n",
    "    print(\"I like your number\")"
   ]
  },
  {
   "cell_type": "code",
   "execution_count": null,
   "metadata": {},
   "outputs": [
    {
     "name": "stdout",
     "output_type": "stream",
     "text": [
      "True\n",
      "False\n"
     ]
    },
    {
     "data": {
      "text/plain": [
       "True"
      ]
     },
     "execution_count": 62,
     "metadata": {},
     "output_type": "execute_result"
    }
   ],
   "source": [
    "\"\"\"\n",
    "Lets test how these operations work\n",
    "\"\"\"\n",
    "print(True or False)\n",
    "print(False and True)\n",
    "to_be = False\n",
    "to_be or not to_be\n"
   ]
  },
  {
   "cell_type": "markdown",
   "metadata": {},
   "source": [
    "## While loop"
   ]
  },
  {
   "cell_type": "code",
   "execution_count": null,
   "metadata": {},
   "outputs": [],
   "source": [
    "\"\"\"\n",
    "Lets look how while loop works with this example.\n",
    "If password is not correct we will request user to try again\n",
    "\"\"\"\n",
    "\n",
    "correct_passwd = ';ugliugliug' # corrent password\n",
    "passwd = input(\"Please, enter password: \") # input password\n",
    "while passwd != correct_passwd: # check if password is correct\n",
    "    print(\"Access denied\") # if not corrent, input password again\n",
    "    passwd = input(\"Please, enter password: \")\n",
    "print(\"Access granted\")\n"
   ]
  },
  {
   "cell_type": "code",
   "execution_count": null,
   "metadata": {},
   "outputs": [],
   "source": [
    "\"\"\"\n",
    "To make code cleaner, we should do infinite loop until user does not fill the right password in\n",
    "\"\"\"\n",
    "\n",
    "correct_passwd = ';ugliugliug' # correct password\n",
    "while True: # infinite loop\n",
    "    passwd = input(\"Please, enter password: \") # input password\n",
    "    if passwd == correct_passwd: # if password is correct\n",
    "        print(\"Access granted\") # grant access\n",
    "        break # break the loop\n",
    "else: # if false\n",
    "    print(\"Access denied\")\n",
    "\n",
    "\"\"\"\n",
    "We can use break operator in any type of loop\n",
    "\"\"\""
   ]
  },
  {
   "cell_type": "markdown",
   "metadata": {},
   "source": [
    "## Numeration in lists"
   ]
  },
  {
   "cell_type": "code",
   "execution_count": 11,
   "metadata": {},
   "outputs": [
    {
     "name": "stdout",
     "output_type": "stream",
     "text": [
      "0 7\n",
      "1 8\n",
      "2 9\n",
      "3 43\n"
     ]
    }
   ],
   "source": [
    "\"\"\"\n",
    "To get element if list with its position we can write this code\n",
    "\"\"\"\n",
    "\n",
    "numbers = [7, 8, 9, 43] # list\n",
    "for i in range(len(numbers)): # for each index\n",
    "    print (i, numbers[i]) # print elements with its list"
   ]
  },
  {
   "cell_type": "code",
   "execution_count": 12,
   "metadata": {},
   "outputs": [
    {
     "name": "stdout",
     "output_type": "stream",
     "text": [
      "2 7\n",
      "3 8\n",
      "4 9\n",
      "5 43\n"
     ]
    }
   ],
   "source": [
    "\"\"\"\n",
    "But python-like code will look like this\n",
    "We can use built-in fucntion enumerate\n",
    "\"\"\"\n",
    "\n",
    "numbers = [7, 8, 9, 43]\n",
    "for i, n in enumerate(numbers, 2): # get index and element in array\n",
    "    print(i,n)\n"
   ]
  },
  {
   "cell_type": "code",
   "execution_count": 14,
   "metadata": {},
   "outputs": [
    {
     "data": {
      "text/plain": [
       "[(0, 7), (1, 8), (2, 9), (3, 43)]"
      ]
     },
     "execution_count": 14,
     "metadata": {},
     "output_type": "execute_result"
    }
   ],
   "source": [
    "\"\"\"\n",
    "Lets see how this function works.\n",
    "Lets enumerete our list and convert it to list back and pirnt the result\n",
    "In this list we have tuples with index and value of the element\n",
    "\"\"\"\n",
    "enum = list(enumerate(numbers)) # enumarate list, then convert it back to list\n",
    "enum"
   ]
  },
  {
   "cell_type": "code",
   "execution_count": 15,
   "metadata": {},
   "outputs": [
    {
     "name": "stdout",
     "output_type": "stream",
     "text": [
      "7\n",
      "9\n"
     ]
    }
   ],
   "source": [
    "\"\"\"\n",
    "In for loop we do list assignment. Assign multiple variables with multiple variables\n",
    "\"\"\" \n",
    "a, b = (7, 9) # assign each variable corresponding element\n",
    "print(a)\n",
    "print(b)"
   ]
  },
  {
   "cell_type": "code",
   "execution_count": 16,
   "metadata": {},
   "outputs": [
    {
     "name": "stdout",
     "output_type": "stream",
     "text": [
      "3\n"
     ]
    }
   ],
   "source": [
    "\"\"\"\n",
    "If there is multiple variables in the left side separated by comas, and in right side some object, that behaves like list, and have the same numbers of variables, it will assign to each variable.\n",
    "\"\"\"\n",
    "a, b, c = (1, 2, 3) # assign each variable corresponding element\n",
    "print(c)"
   ]
  },
  {
   "cell_type": "code",
   "execution_count": 17,
   "metadata": {},
   "outputs": [
    {
     "data": {
      "text/plain": [
       "(0, 7)"
      ]
     },
     "execution_count": 17,
     "metadata": {},
     "output_type": "execute_result"
    }
   ],
   "source": [
    "\"\"\"\n",
    "These are the numbers of first element of our enum list, lets print them\n",
    "\"\"\"\n",
    "enum[0]\n"
   ]
  },
  {
   "cell_type": "code",
   "execution_count": 19,
   "metadata": {},
   "outputs": [
    {
     "name": "stdout",
     "output_type": "stream",
     "text": [
      "0 7\n"
     ]
    }
   ],
   "source": [
    "\"\"\"\n",
    "We can assign its values to the separate variables, for example i and n\n",
    "\"\"\"\n",
    "i, n = enum[0]\n",
    "print(i, n)"
   ]
  }
 ],
 "metadata": {
  "interpreter": {
   "hash": "c2ce29519d01fd3567b9c062877074e7f09ceb18e77b0dd4da51712a0aa9c9a1"
  },
  "kernelspec": {
   "display_name": "Python 3.10.0 64-bit",
   "name": "python3"
  },
  "language_info": {
   "codemirror_mode": {
    "name": "ipython",
    "version": 3
   },
   "file_extension": ".py",
   "mimetype": "text/x-python",
   "name": "python",
   "nbconvert_exporter": "python",
   "pygments_lexer": "ipython3",
   "version": "3.10.0"
  },
  "orig_nbformat": 4
 },
 "nbformat": 4,
 "nbformat_minor": 2
}
